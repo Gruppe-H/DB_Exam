{
 "cells": [
  {
   "cell_type": "code",
   "execution_count": 1,
   "id": "57ce6239-29b0-4aee-a9a8-e0df31ca0bfd",
   "metadata": {},
   "outputs": [],
   "source": [
    "import pandas as pd"
   ]
  },
  {
   "cell_type": "code",
   "execution_count": 2,
   "id": "53bd7841-2ce4-4351-b971-1a91fb1d9f21",
   "metadata": {},
   "outputs": [],
   "source": [
    "def read_in_chunks(file_path, sep='\\t'):\n",
    "    chunk_size = 1000\n",
    "    chunks = pd.read_csv(file_path, sep=sep, chunksize=chunk_size)\n",
    "    df = pd.concat(chunks)\n",
    "    return df"
   ]
  },
  {
   "cell_type": "code",
   "execution_count": 3,
   "id": "8cee2495-5cd7-45dc-ada7-b16ddb55f4d0",
   "metadata": {},
   "outputs": [
    {
     "data": {
      "text/html": [
       "<div>\n",
       "<style scoped>\n",
       "    .dataframe tbody tr th:only-of-type {\n",
       "        vertical-align: middle;\n",
       "    }\n",
       "\n",
       "    .dataframe tbody tr th {\n",
       "        vertical-align: top;\n",
       "    }\n",
       "\n",
       "    .dataframe thead th {\n",
       "        text-align: right;\n",
       "    }\n",
       "</style>\n",
       "<table border=\"1\" class=\"dataframe\">\n",
       "  <thead>\n",
       "    <tr style=\"text-align: right;\">\n",
       "      <th></th>\n",
       "      <th>nconst</th>\n",
       "      <th>primaryName</th>\n",
       "      <th>birthYear</th>\n",
       "      <th>deathYear</th>\n",
       "      <th>primaryProfession</th>\n",
       "      <th>knownForTitles</th>\n",
       "    </tr>\n",
       "  </thead>\n",
       "  <tbody>\n",
       "    <tr>\n",
       "      <th>0</th>\n",
       "      <td>nm0000001</td>\n",
       "      <td>Fred Astaire</td>\n",
       "      <td>1899</td>\n",
       "      <td>1987</td>\n",
       "      <td>actor,miscellaneous,producer</td>\n",
       "      <td>tt0072308,tt0050419,tt0053137,tt0027125</td>\n",
       "    </tr>\n",
       "    <tr>\n",
       "      <th>1</th>\n",
       "      <td>nm0000002</td>\n",
       "      <td>Lauren Bacall</td>\n",
       "      <td>1924</td>\n",
       "      <td>2014</td>\n",
       "      <td>actress,soundtrack,archive_footage</td>\n",
       "      <td>tt0037382,tt0075213,tt0117057,tt0038355</td>\n",
       "    </tr>\n",
       "    <tr>\n",
       "      <th>2</th>\n",
       "      <td>nm0000003</td>\n",
       "      <td>Brigitte Bardot</td>\n",
       "      <td>1934</td>\n",
       "      <td>\\N</td>\n",
       "      <td>actress,music_department,producer</td>\n",
       "      <td>tt0057345,tt0049189,tt0056404,tt0054452</td>\n",
       "    </tr>\n",
       "  </tbody>\n",
       "</table>\n",
       "</div>"
      ],
      "text/plain": [
       "      nconst      primaryName birthYear deathYear  \\\n",
       "0  nm0000001     Fred Astaire      1899      1987   \n",
       "1  nm0000002    Lauren Bacall      1924      2014   \n",
       "2  nm0000003  Brigitte Bardot      1934        \\N   \n",
       "\n",
       "                    primaryProfession                           knownForTitles  \n",
       "0        actor,miscellaneous,producer  tt0072308,tt0050419,tt0053137,tt0027125  \n",
       "1  actress,soundtrack,archive_footage  tt0037382,tt0075213,tt0117057,tt0038355  \n",
       "2   actress,music_department,producer  tt0057345,tt0049189,tt0056404,tt0054452  "
      ]
     },
     "execution_count": 3,
     "metadata": {},
     "output_type": "execute_result"
    }
   ],
   "source": [
    "df1 = read_in_chunks('Data/name.basics.tsv')\n",
    "df1.head(3)"
   ]
  },
  {
   "cell_type": "code",
   "execution_count": 4,
   "id": "43fcca35-c042-4692-96d6-7e432e372023",
   "metadata": {},
   "outputs": [
    {
     "name": "stdout",
     "output_type": "stream",
     "text": [
      "<class 'pandas.core.frame.DataFrame'>\n",
      "RangeIndex: 13510205 entries, 0 to 13510204\n",
      "Data columns (total 6 columns):\n",
      " #   Column             Dtype \n",
      "---  ------             ----- \n",
      " 0   nconst             object\n",
      " 1   primaryName        object\n",
      " 2   birthYear          object\n",
      " 3   deathYear          object\n",
      " 4   primaryProfession  object\n",
      " 5   knownForTitles     object\n",
      "dtypes: object(6)\n",
      "memory usage: 618.4+ MB\n"
     ]
    }
   ],
   "source": [
    "df1.info()"
   ]
  },
  {
   "cell_type": "code",
   "execution_count": 4,
   "id": "bf596065-b4f7-4609-8624-1c130c06339f",
   "metadata": {},
   "outputs": [],
   "source": [
    "df1.replace('\\\\N', pd.NA, inplace=True)"
   ]
  },
  {
   "cell_type": "code",
   "execution_count": 6,
   "id": "9d9f49af-7e79-4238-83ee-34fb73b36689",
   "metadata": {},
   "outputs": [
    {
     "data": {
      "text/plain": [
       "nconst                      0\n",
       "primaryName                56\n",
       "birthYear            12894909\n",
       "deathYear            13281540\n",
       "primaryProfession     2594827\n",
       "knownForTitles        1492307\n",
       "dtype: int64"
      ]
     },
     "execution_count": 6,
     "metadata": {},
     "output_type": "execute_result"
    }
   ],
   "source": [
    "df1.isnull().sum()"
   ]
  },
  {
   "cell_type": "code",
   "execution_count": 5,
   "id": "b582ccd1-75ba-42fd-a1f1-086d759eb6e4",
   "metadata": {},
   "outputs": [],
   "source": [
    "df1['primaryProfession'] = df1['primaryProfession'].apply(lambda x: x.split(',') if pd.notna(x) else [])"
   ]
  },
  {
   "cell_type": "code",
   "execution_count": 6,
   "id": "f74ebd68-f604-4b60-a8b8-820114ef4460",
   "metadata": {},
   "outputs": [],
   "source": [
    "df1['knownForTitles'] = df1['knownForTitles'].apply(lambda x: x.split(',') if pd.notna(x) else [])"
   ]
  },
  {
   "cell_type": "code",
   "execution_count": 7,
   "id": "1c86d76f-897b-4999-b4b5-816cf95ee0e1",
   "metadata": {},
   "outputs": [],
   "source": [
    "df1 = df1.rename(columns={'nconst': 'id'})"
   ]
  },
  {
   "cell_type": "code",
   "execution_count": 18,
   "id": "aee5824e-e3c5-4649-a346-a96c72529f77",
   "metadata": {},
   "outputs": [
    {
     "data": {
      "text/html": [
       "<div>\n",
       "<style scoped>\n",
       "    .dataframe tbody tr th:only-of-type {\n",
       "        vertical-align: middle;\n",
       "    }\n",
       "\n",
       "    .dataframe tbody tr th {\n",
       "        vertical-align: top;\n",
       "    }\n",
       "\n",
       "    .dataframe thead th {\n",
       "        text-align: right;\n",
       "    }\n",
       "</style>\n",
       "<table border=\"1\" class=\"dataframe\">\n",
       "  <thead>\n",
       "    <tr style=\"text-align: right;\">\n",
       "      <th></th>\n",
       "      <th>id</th>\n",
       "      <th>primaryName</th>\n",
       "      <th>birthYear</th>\n",
       "      <th>deathYear</th>\n",
       "      <th>primaryProfession</th>\n",
       "      <th>knownForTitles</th>\n",
       "    </tr>\n",
       "  </thead>\n",
       "  <tbody>\n",
       "    <tr>\n",
       "      <th>0</th>\n",
       "      <td>nm0000001</td>\n",
       "      <td>Fred Astaire</td>\n",
       "      <td>1899</td>\n",
       "      <td>1987</td>\n",
       "      <td>[actor, miscellaneous, producer]</td>\n",
       "      <td>[tt0072308, tt0050419, tt0053137, tt0027125]</td>\n",
       "    </tr>\n",
       "    <tr>\n",
       "      <th>1</th>\n",
       "      <td>nm0000002</td>\n",
       "      <td>Lauren Bacall</td>\n",
       "      <td>1924</td>\n",
       "      <td>2014</td>\n",
       "      <td>[actress, soundtrack, archive_footage]</td>\n",
       "      <td>[tt0037382, tt0075213, tt0117057, tt0038355]</td>\n",
       "    </tr>\n",
       "    <tr>\n",
       "      <th>2</th>\n",
       "      <td>nm0000003</td>\n",
       "      <td>Brigitte Bardot</td>\n",
       "      <td>1934</td>\n",
       "      <td>&lt;NA&gt;</td>\n",
       "      <td>[actress, music_department, producer]</td>\n",
       "      <td>[tt0057345, tt0049189, tt0056404, tt0054452]</td>\n",
       "    </tr>\n",
       "  </tbody>\n",
       "</table>\n",
       "</div>"
      ],
      "text/plain": [
       "          id      primaryName birthYear deathYear  \\\n",
       "0  nm0000001     Fred Astaire      1899      1987   \n",
       "1  nm0000002    Lauren Bacall      1924      2014   \n",
       "2  nm0000003  Brigitte Bardot      1934      <NA>   \n",
       "\n",
       "                        primaryProfession  \\\n",
       "0        [actor, miscellaneous, producer]   \n",
       "1  [actress, soundtrack, archive_footage]   \n",
       "2   [actress, music_department, producer]   \n",
       "\n",
       "                                 knownForTitles  \n",
       "0  [tt0072308, tt0050419, tt0053137, tt0027125]  \n",
       "1  [tt0037382, tt0075213, tt0117057, tt0038355]  \n",
       "2  [tt0057345, tt0049189, tt0056404, tt0054452]  "
      ]
     },
     "execution_count": 18,
     "metadata": {},
     "output_type": "execute_result"
    }
   ],
   "source": [
    "df1.head(3)"
   ]
  },
  {
   "cell_type": "code",
   "execution_count": 8,
   "id": "f0342106-2d08-4f0f-9676-ed4dc87a5755",
   "metadata": {},
   "outputs": [],
   "source": [
    "from neo4j import GraphDatabase, RoutingControl, basic_auth"
   ]
  },
  {
   "cell_type": "code",
   "execution_count": 9,
   "id": "e1cb88dc-4c21-45d5-abae-1eed010d3abc",
   "metadata": {},
   "outputs": [],
   "source": [
    "# DB URI and authentication\n",
    "URI = \"bolt://localhost:7687\"\n",
    "AUTH = (\"neo4j\",\"12345678\")"
   ]
  },
  {
   "cell_type": "code",
   "execution_count": 10,
   "id": "ddf7256e-1b5f-4732-aa23-569cb9664a14",
   "metadata": {},
   "outputs": [],
   "source": [
    "driver = GraphDatabase.driver(URI, auth=AUTH)"
   ]
  },
  {
   "cell_type": "code",
   "execution_count": 11,
   "id": "0d64c5af-6e8e-4736-b3cf-ac25ff00b072",
   "metadata": {},
   "outputs": [],
   "source": [
    "driver.verify_connectivity()"
   ]
  },
  {
   "cell_type": "code",
   "execution_count": 12,
   "id": "0ff1bc33-2678-4a5a-8471-172c829eef2e",
   "metadata": {},
   "outputs": [],
   "source": [
    "# template write request\n",
    "def write_query(query, params={}):\n",
    "    with driver.session(database=\"neo4j\") as session:\n",
    "        session.execute_write(lambda tx: tx.run(query, params).data())"
   ]
  },
  {
   "cell_type": "code",
   "execution_count": 13,
   "id": "868516a7-9a9c-4729-b11e-ae9ad9112bf6",
   "metadata": {},
   "outputs": [],
   "source": [
    "create_actor_query = \"\"\"\n",
    "MERGE (a:Actor {id: $id})\n",
    "SET a.name = CASE trim(toString($name)) WHEN 'pd.NA' THEN null ELSE $name END, \n",
    "    a.birthYear = CASE trim(toString($birthYear)) WHEN 'pd.NA' THEN null ELSE $birthYear END, \n",
    "    a.deathYear = CASE trim(toString($deathYear)) WHEN 'pd.NA' THEN null ELSE $deathYear END\n",
    "\"\"\""
   ]
  },
  {
   "cell_type": "code",
   "execution_count": 14,
   "id": "748f1aa4-a3d5-44c7-a8d8-b4657d585c5f",
   "metadata": {},
   "outputs": [],
   "source": [
    "create_profession_query = \"\"\"\n",
    "MERGE (p:Profession {name: $profession})\n",
    "\"\"\""
   ]
  },
  {
   "cell_type": "code",
   "execution_count": 15,
   "id": "20609064-e5d8-4857-8b0e-3e5519eb51ca",
   "metadata": {},
   "outputs": [],
   "source": [
    "create_known_for_title_query = \"\"\"\n",
    "MERGE (m:Movie {id: $titleId})\n",
    "\"\"\""
   ]
  },
  {
   "cell_type": "code",
   "execution_count": 16,
   "id": "7363eb8b-9df6-4a70-b9b7-987e0161214a",
   "metadata": {},
   "outputs": [],
   "source": [
    "create_actor_profession_relationship = \"\"\"\n",
    "MATCH (a:Actor {id: $actorId}), (p:Profession {name: $profession})\n",
    "MERGE (a)-[:IS_A]->(p)\n",
    "\"\"\""
   ]
  },
  {
   "cell_type": "code",
   "execution_count": 17,
   "id": "184a2fa4-83d7-4ebb-8e28-971f91edd8fe",
   "metadata": {},
   "outputs": [],
   "source": [
    "create_actor_title_relationship = \"\"\"\n",
    "MATCH (a:Actor {id: $actorId}), (m:Movie {id: $titleId})\n",
    "MERGE (a)-[:KNOWN_FOR]->(m)\n",
    "\"\"\""
   ]
  },
  {
   "cell_type": "code",
   "execution_count": 18,
   "id": "675eca99-e24b-4b34-98e7-52b823ff853b",
   "metadata": {},
   "outputs": [],
   "source": [
    "def process_in_chunks(df, start, end):\n",
    "    for index, row in df.iloc[start:end].iterrows():\n",
    "        write_query(create_actor_query, {\n",
    "            'id': row['id'],\n",
    "            'name': row['primaryName'],\n",
    "            'birthYear': row['birthYear'],\n",
    "            'deathYear': row['deathYear']\n",
    "        })\n",
    "\n",
    "        for profession in row['primaryProfession']:\n",
    "            write_query(create_profession_query, {'profession': profession})\n",
    "            write_query(create_actor_profession_relationship, {\n",
    "                'actorId': row['id'],\n",
    "                'profession': profession\n",
    "            })\n",
    "\n",
    "        for title in row['knownForTitles']:\n",
    "            write_query(create_known_for_title_query, {'titleId': title})\n",
    "            write_query(create_actor_title_relationship, {\n",
    "                'actorId': row['id'],\n",
    "                'titleId': title\n",
    "            })"
   ]
  },
  {
   "cell_type": "code",
   "execution_count": 38,
   "id": "9d96d979-3e9b-44e6-bdb8-9ab29722e9d1",
   "metadata": {},
   "outputs": [
    {
     "name": "stdout",
     "output_type": "stream",
     "text": [
      "CPU times: total: 53.2 s\n",
      "Wall time: 23min 46s\n"
     ]
    }
   ],
   "source": [
    "%%time\n",
    "process_in_chunks(df1, 0, 10000)"
   ]
  },
  {
   "cell_type": "code",
   "execution_count": 39,
   "id": "dacd81e3-6555-4a38-80c9-e916ab14fcd1",
   "metadata": {},
   "outputs": [
    {
     "name": "stdout",
     "output_type": "stream",
     "text": [
      "CPU times: total: 20.4 s\n",
      "Wall time: 21min 27s\n"
     ]
    }
   ],
   "source": [
    "%%time\n",
    "process_in_chunks(df1, 10000, 20000)"
   ]
  },
  {
   "cell_type": "code",
   "execution_count": 40,
   "id": "df133339-af8c-4b0f-a4aa-ea52b830be03",
   "metadata": {},
   "outputs": [
    {
     "name": "stdout",
     "output_type": "stream",
     "text": [
      "CPU times: total: 20.5 s\n",
      "Wall time: 29min 29s\n"
     ]
    }
   ],
   "source": [
    "%%time\n",
    "process_in_chunks(df1, 20000, 30000)"
   ]
  },
  {
   "cell_type": "code",
   "execution_count": 41,
   "id": "e674947c-a495-4a11-9138-664024101915",
   "metadata": {
    "scrolled": true
   },
   "outputs": [
    {
     "name": "stderr",
     "output_type": "stream",
     "text": [
      "Failed to read from defunct connection IPv4Address(('localhost', 7687)) (ResolvedIPv4Address(('127.0.0.1', 7687)))\n",
      "Transaction failed and will be retried in 0.8916326761686947s (Failed to read from defunct connection IPv4Address(('localhost', 7687)) (ResolvedIPv4Address(('127.0.0.1', 7687))))\n",
      "Failed to read from defunct connection IPv4Address(('localhost', 7687)) (ResolvedIPv4Address(('127.0.0.1', 7687)))\n",
      "Transaction failed and will be retried in 1.1166091406293448s (Failed to read from defunct connection IPv4Address(('localhost', 7687)) (ResolvedIPv4Address(('127.0.0.1', 7687))))\n",
      "Failed to read from defunct connection IPv4Address(('localhost', 7687)) (ResolvedIPv4Address(('127.0.0.1', 7687)))\n",
      "Transaction failed and will be retried in 0.9572159893814413s (Failed to read from defunct connection IPv4Address(('localhost', 7687)) (ResolvedIPv4Address(('127.0.0.1', 7687))))\n"
     ]
    },
    {
     "name": "stdout",
     "output_type": "stream",
     "text": [
      "CPU times: total: 24.9 s\n",
      "Wall time: 1h 34min 22s\n"
     ]
    }
   ],
   "source": [
    "%%time\n",
    "process_in_chunks(df1, 30000, 40000)"
   ]
  },
  {
   "cell_type": "code",
   "execution_count": 20,
   "id": "70d36f82-4429-474e-b51c-50ddd531bbcd",
   "metadata": {
    "scrolled": true
   },
   "outputs": [
    {
     "name": "stdout",
     "output_type": "stream",
     "text": [
      "CPU times: total: 24.5 s\n",
      "Wall time: 52min 57s\n"
     ]
    }
   ],
   "source": [
    "%%time\n",
    "process_in_chunks(df1, 40000, 50000)"
   ]
  },
  {
   "cell_type": "code",
   "execution_count": 19,
   "id": "e0eab9a8-e574-4e5d-b247-dc8732f7f627",
   "metadata": {
    "scrolled": true
   },
   "outputs": [
    {
     "name": "stderr",
     "output_type": "stream",
     "text": [
      "Failed to read from defunct connection IPv4Address(('localhost', 7687)) (ResolvedIPv4Address(('127.0.0.1', 7687)))\n",
      "Transaction failed and will be retried in 1.131045936506472s (Failed to read from defunct connection IPv4Address(('localhost', 7687)) (ResolvedIPv4Address(('127.0.0.1', 7687))))\n"
     ]
    },
    {
     "name": "stdout",
     "output_type": "stream",
     "text": [
      "CPU times: total: 23.2 s\n",
      "Wall time: 50min 34s\n"
     ]
    }
   ],
   "source": [
    "%%time\n",
    "process_in_chunks(df1, 50000, 60000)"
   ]
  },
  {
   "cell_type": "code",
   "execution_count": 21,
   "id": "344caa1b-5b51-4cc3-80cf-20fb2a00ea2b",
   "metadata": {
    "scrolled": true
   },
   "outputs": [
    {
     "name": "stdout",
     "output_type": "stream",
     "text": [
      "CPU times: total: 22.3 s\n",
      "Wall time: 58min 46s\n"
     ]
    }
   ],
   "source": [
    "%%time\n",
    "process_in_chunks(df1, 60000, 70000)"
   ]
  },
  {
   "cell_type": "code",
   "execution_count": 22,
   "id": "0fec7e71-e270-4c47-b511-01192db15ec1",
   "metadata": {
    "scrolled": true
   },
   "outputs": [
    {
     "name": "stdout",
     "output_type": "stream",
     "text": [
      "CPU times: total: 24 s\n",
      "Wall time: 1h 5min 8s\n"
     ]
    }
   ],
   "source": [
    "%%time\n",
    "process_in_chunks(df1, 70000, 80000)"
   ]
  },
  {
   "cell_type": "code",
   "execution_count": 23,
   "id": "f9c3a4b4-5579-4aa3-9890-e6d04159b116",
   "metadata": {
    "scrolled": true
   },
   "outputs": [
    {
     "name": "stdout",
     "output_type": "stream",
     "text": [
      "CPU times: total: 24.4 s\n",
      "Wall time: 1h 14min\n"
     ]
    }
   ],
   "source": [
    "%%time\n",
    "process_in_chunks(df1, 80000, 90000)"
   ]
  },
  {
   "cell_type": "code",
   "execution_count": 24,
   "id": "725e08df-3d2a-41a6-b5ee-f60f1c6adb65",
   "metadata": {
    "scrolled": true
   },
   "outputs": [
    {
     "name": "stdout",
     "output_type": "stream",
     "text": [
      "CPU times: total: 58.5 s\n",
      "Wall time: 2h 40min 39s\n"
     ]
    }
   ],
   "source": [
    "%%time\n",
    "process_in_chunks(df1, 90000, 100000)"
   ]
  },
  {
   "cell_type": "code",
   "execution_count": null,
   "id": "94cf961b-4a71-4516-b199-37583b641d8e",
   "metadata": {},
   "outputs": [],
   "source": []
  }
 ],
 "metadata": {
  "kernelspec": {
   "display_name": "Python 3 (ipykernel)",
   "language": "python",
   "name": "python3"
  },
  "language_info": {
   "codemirror_mode": {
    "name": "ipython",
    "version": 3
   },
   "file_extension": ".py",
   "mimetype": "text/x-python",
   "name": "python",
   "nbconvert_exporter": "python",
   "pygments_lexer": "ipython3",
   "version": "3.12.3"
  }
 },
 "nbformat": 4,
 "nbformat_minor": 5
}
